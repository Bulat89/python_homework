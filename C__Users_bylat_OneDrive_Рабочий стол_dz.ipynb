{
 "cells": [
  {
   "cell_type": "code",
   "execution_count": null,
   "id": "492cef3e",
   "metadata": {},
   "outputs": [],
   "source": [
    "import pandas as pd\n",
    "\n",
    "df = pd.read_csv(\"/content/sample_data/california_housing_train.csv\") #  из googl colab\n",
    "# 1 задание\n",
    "x = df[df['population']<500]\n",
    "y = x.median_house_value.mean()\n",
    "print(f\"первое задание {y} \")\n",
    "\n",
    "# 2 задание\n",
    "b = df[df[\"population\"]==df.population.min()]\n",
    "print(f\"Второе зазадние {b['households'].loc[b.index[0]]} \" )\n"
   ]
  }
 ],
 "metadata": {
  "kernelspec": {
   "display_name": "Python 3 (ipykernel)",
   "language": "python",
   "name": "python3"
  },
  "language_info": {
   "codemirror_mode": {
    "name": "ipython",
    "version": 3
   },
   "file_extension": ".py",
   "mimetype": "text/x-python",
   "name": "python",
   "nbconvert_exporter": "python",
   "pygments_lexer": "ipython3",
   "version": "3.9.13"
  }
 },
 "nbformat": 4,
 "nbformat_minor": 5
}
