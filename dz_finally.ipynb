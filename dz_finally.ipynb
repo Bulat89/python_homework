{
 "cells": [
  {
   "cell_type": "code",
   "execution_count": 5,
   "id": "0ac2623a",
   "metadata": {
    "scrolled": false
   },
   "outputs": [
    {
     "name": "stdout",
     "output_type": "stream",
     "text": [
      "    whoAmI_human  whoAmI_robot\n",
      "0              1             0\n",
      "1              1             0\n",
      "2              1             0\n",
      "3              1             0\n",
      "4              1             0\n",
      "5              0             1\n",
      "6              0             1\n",
      "7              0             1\n",
      "8              1             0\n",
      "9              0             1\n",
      "10             0             1\n",
      "11             1             0\n",
      "12             1             0\n",
      "13             0             1\n",
      "14             1             0\n",
      "15             0             1\n",
      "16             0             1\n",
      "17             1             0\n",
      "18             0             1\n",
      "19             0             1\n"
     ]
    }
   ],
   "source": [
    "import pandas as pd\n",
    "import random\n",
    "import matplotlib as ml\n",
    "import random\n",
    "\n",
    "lst = ['robot'] * 10\n",
    "lst += ['human'] * 10\n",
    "random.shuffle(lst)\n",
    "data = pd.DataFrame({'whoAmI':lst})\n",
    "\n",
    "#из одного создал 2 Дфрейма\n",
    "data1 = pd.DataFrame(data [data['whoAmI']=='human']).rename(columns={'whoAmI':'whoAmI_human'})\n",
    "data2 = pd.DataFrame(data [data['whoAmI']=='robot']).rename(columns={'whoAmI':'whoAmI_robot'})\n",
    "\n",
    "#объединил их\n",
    "data3 = pd.concat([data1,data2],axis=1)\n",
    "data3.sort_index(inplace=True)\n",
    "\n",
    "#меняем значения на единиуц\n",
    "data3.loc[(data3.whoAmI_human=='human') , 'whoAmI_human']=1\n",
    "data3.loc[(data3.whoAmI_robot=='robot') , 'whoAmI_robot']=1\n",
    "\n",
    "#убираем нули\n",
    "print(data3.fillna(0))"
   ]
  },
  {
   "cell_type": "code",
   "execution_count": null,
   "id": "c6301849",
   "metadata": {},
   "outputs": [],
   "source": []
  },
  {
   "cell_type": "code",
   "execution_count": null,
   "id": "ee46ea44",
   "metadata": {},
   "outputs": [],
   "source": []
  }
 ],
 "metadata": {
  "kernelspec": {
   "display_name": "Python 3 (ipykernel)",
   "language": "python",
   "name": "python3"
  },
  "language_info": {
   "codemirror_mode": {
    "name": "ipython",
    "version": 3
   },
   "file_extension": ".py",
   "mimetype": "text/x-python",
   "name": "python",
   "nbconvert_exporter": "python",
   "pygments_lexer": "ipython3",
   "version": "3.9.13"
  }
 },
 "nbformat": 4,
 "nbformat_minor": 5
}
